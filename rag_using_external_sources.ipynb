{
 "cells": [
  {
   "cell_type": "code",
   "execution_count": 3,
   "metadata": {},
   "outputs": [],
   "source": [
    "import ollama\n",
    "import yfinance as yf"
   ]
  },
  {
   "cell_type": "code",
   "execution_count": 12,
   "metadata": {},
   "outputs": [],
   "source": [
    "# Define a function to use as a tool\n",
    "def get_stock_price(ticker):\n",
    "    stock = yf.Ticker(ticker=ticker)\n",
    "    return stock.history(period = '1d')[\"Close\"].iloc[-1]"
   ]
  },
  {
   "cell_type": "code",
   "execution_count": 8,
   "metadata": {},
   "outputs": [
    {
     "data": {
      "text/plain": [
       "ListResponse(models=[Model(model='phi3:latest', modified_at=datetime.datetime(2025, 2, 3, 14, 42, 44, 317737, tzinfo=TzInfo(+01:00)), digest='4f222292793889a9a40a020799cfd28d53f3e01af25d48e06c5e708610fc47e9', size=2176178913, details=ModelDetails(parent_model='', format='gguf', family='phi3', families=['phi3'], parameter_size='3.8B', quantization_level='Q4_0'))])"
      ]
     },
     "execution_count": 8,
     "metadata": {},
     "output_type": "execute_result"
    }
   ],
   "source": [
    "ollama.list()"
   ]
  },
  {
   "cell_type": "code",
   "execution_count": 20,
   "metadata": {},
   "outputs": [
    {
     "data": {
      "text/plain": [
       "'{\"model\":\"llama3.2\",\"created_at\":\"2025-02-05T09:51:36.74879667Z\",\"done\":true,\"done_reason\":\"stop\",\"total_duration\":279168947,\"load_duration\":17927137,\"prompt_eval_count\":154,\"prompt_eval_duration\":7000000,\"eval_count\":19,\"eval_duration\":252000000,\"message\":{\"role\":\"assistant\",\"content\":\"\",\"images\":null,\"tool_calls\":[{\"function\":{\"name\":\"get_stock_price\",\"arguments\":{\"ticker\":\"AAPL\"}}}]}}'"
      ]
     },
     "execution_count": 20,
     "metadata": {},
     "output_type": "execute_result"
    }
   ],
   "source": [
    "# Pass the function as a tool to Ollama\n",
    "response = ollama.chat(\n",
    "    model = \"llama3.2\",\n",
    "    messages=[{\"role\":\"user\", \"content\":\"What is the stock price of Apple?\"}],\n",
    "    tools={get_stock_price}\n",
    ")\n",
    "response.model_dump_json()"
   ]
  },
  {
   "cell_type": "code",
   "execution_count": 14,
   "metadata": {},
   "outputs": [
    {
     "name": "stdout",
     "output_type": "stream",
     "text": [
      "Arguments {'ticker': 'AAPL'}\n",
      "Function output 232.8000030517578\n"
     ]
    }
   ],
   "source": [
    "# Call the function from the model response\n",
    "available_functions = {\n",
    "    'get_stock_price':get_stock_price\n",
    "}\n",
    "\n",
    "for tool in response.message.tool_calls or []:\n",
    "    function_to_call = available_functions.get(tool.function.name)\n",
    "    if function_to_call:\n",
    "        print(\"Arguments\", tool.function.arguments)\n",
    "        print(\"Function output\", function_to_call(**tool.function.arguments))\n",
    "    else:\n",
    "        print(\"Function not found\",tool.function.name)"
   ]
  },
  {
   "cell_type": "code",
   "execution_count": null,
   "metadata": {},
   "outputs": [],
   "source": []
  }
 ],
 "metadata": {
  "kernelspec": {
   "display_name": "venv",
   "language": "python",
   "name": "python3"
  },
  "language_info": {
   "codemirror_mode": {
    "name": "ipython",
    "version": 3
   },
   "file_extension": ".py",
   "mimetype": "text/x-python",
   "name": "python",
   "nbconvert_exporter": "python",
   "pygments_lexer": "ipython3",
   "version": "3.10.12"
  }
 },
 "nbformat": 4,
 "nbformat_minor": 2
}
